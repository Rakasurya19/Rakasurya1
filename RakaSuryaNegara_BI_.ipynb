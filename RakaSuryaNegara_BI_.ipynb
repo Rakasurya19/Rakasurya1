{
  "nbformat": 4,
  "nbformat_minor": 0,
  "metadata": {
    "colab": {
      "name": "RakaSuryaNegara-BI-.ipynb",
      "provenance": [],
      "collapsed_sections": [],
      "authorship_tag": "ABX9TyNxiLIqGj1OBmGvtOsNGTBQ",
      "include_colab_link": true
    },
    "kernelspec": {
      "name": "python3",
      "display_name": "Python 3"
    }
  },
  "cells": [
    {
      "cell_type": "markdown",
      "metadata": {
        "id": "view-in-github",
        "colab_type": "text"
      },
      "source": [
        "<a href=\"https://colab.research.google.com/github/Rakasurya19/Rakasurya1/blob/main/RakaSuryaNegara_BI_.ipynb\" target=\"_parent\"><img src=\"https://colab.research.google.com/assets/colab-badge.svg\" alt=\"Open In Colab\"/></a>"
      ]
    },
    {
      "cell_type": "code",
      "metadata": {
        "id": "9gL8F28-VbuO",
        "outputId": "03aba74d-7251-4db5-861b-a155037bb025",
        "colab": {
          "base_uri": "https://localhost:8080/",
          "height": 34
        }
      },
      "source": [
        "print(\"hallo world\")"
      ],
      "execution_count": null,
      "outputs": [
        {
          "output_type": "stream",
          "text": [
            "hallo world\n"
          ],
          "name": "stdout"
        }
      ]
    },
    {
      "cell_type": "code",
      "metadata": {
        "id": "utZaq45SWMgj",
        "outputId": "5578d598-2c43-4ec8-fb86-c813710788bf",
        "colab": {
          "base_uri": "https://localhost:8080/",
          "height": 34
        }
      },
      "source": [
        "print(\"hallo apa kabar\")"
      ],
      "execution_count": null,
      "outputs": [
        {
          "output_type": "stream",
          "text": [
            "hallo apa kabar\n"
          ],
          "name": "stdout"
        }
      ]
    },
    {
      "cell_type": "code",
      "metadata": {
        "id": "JPLTvMEFWWW-",
        "outputId": "09168745-8b7e-4aac-b725-37a940db9c6a",
        "colab": {
          "base_uri": "https://localhost:8080/",
          "height": 34
        }
      },
      "source": [
        "print(\"hallo apakabar\",\"kamu hari ini\")"
      ],
      "execution_count": null,
      "outputs": [
        {
          "output_type": "stream",
          "text": [
            "hallo apakabar kamu hari ini\n"
          ],
          "name": "stdout"
        }
      ]
    },
    {
      "cell_type": "code",
      "metadata": {
        "id": "zNzbvUiWWcDI",
        "outputId": "506778ec-c7ef-4859-e002-3a827b471c09",
        "colab": {
          "base_uri": "https://localhost:8080/",
          "height": 34
        }
      },
      "source": [
        "print(\"hallo apakabar\",\"kamu hari ini\",\"?\")"
      ],
      "execution_count": null,
      "outputs": [
        {
          "output_type": "stream",
          "text": [
            "hallo apakabar kamu hari ini ?\n"
          ],
          "name": "stdout"
        }
      ]
    },
    {
      "cell_type": "code",
      "metadata": {
        "id": "EcZLtfyuWe3c",
        "outputId": "8bf91d3c-3202-4a9f-8f99-ec7a4c4d4f9c",
        "colab": {
          "base_uri": "https://localhost:8080/",
          "height": 34
        }
      },
      "source": [
        "print(\"No ke_\",1)"
      ],
      "execution_count": null,
      "outputs": [
        {
          "output_type": "stream",
          "text": [
            "No ke_ 1\n"
          ],
          "name": "stdout"
        }
      ]
    },
    {
      "cell_type": "code",
      "metadata": {
        "id": "uDQO0zT8WieY",
        "outputId": "6bd1d440-a8e0-466a-aa19-17afb078cc94",
        "colab": {
          "base_uri": "https://localhost:8080/",
          "height": 34
        }
      },
      "source": [
        "#int tipe1 = 0\n",
        "#float tipe2 = 1.2\n",
        "#string tipe3= \"tiga\"\n",
        "\n",
        "tipe1 = 0\n",
        "tipe2 = 1.2\n",
        "tipe3= \"tiga\"\n",
        "\n",
        "print (tipe3)"
      ],
      "execution_count": null,
      "outputs": [
        {
          "output_type": "stream",
          "text": [
            "tiga\n"
          ],
          "name": "stdout"
        }
      ]
    },
    {
      "cell_type": "code",
      "metadata": {
        "id": "eJjQmwlVWmMG",
        "outputId": "4a7e114a-01f2-48b9-d969-c579c3fc5fec",
        "colab": {
          "base_uri": "https://localhost:8080/",
          "height": 51
        }
      },
      "source": [
        "print(tipe3)\n",
        "type(tipe3)"
      ],
      "execution_count": null,
      "outputs": [
        {
          "output_type": "stream",
          "text": [
            "tiga\n"
          ],
          "name": "stdout"
        },
        {
          "output_type": "execute_result",
          "data": {
            "text/plain": [
              "str"
            ]
          },
          "metadata": {
            "tags": []
          },
          "execution_count": 8
        }
      ]
    },
    {
      "cell_type": "code",
      "metadata": {
        "id": "ixN_bKjRWogt",
        "outputId": "09b43fd9-8048-4001-c40a-3751b7aa1f3f",
        "colab": {
          "base_uri": "https://localhost:8080/",
          "height": 51
        }
      },
      "source": [
        "print(tipe3)\n",
        "type(tipe2)"
      ],
      "execution_count": null,
      "outputs": [
        {
          "output_type": "stream",
          "text": [
            "tiga\n"
          ],
          "name": "stdout"
        },
        {
          "output_type": "execute_result",
          "data": {
            "text/plain": [
              "float"
            ]
          },
          "metadata": {
            "tags": []
          },
          "execution_count": 9
        }
      ]
    },
    {
      "cell_type": "code",
      "metadata": {
        "id": "fqO5bDcOWp39",
        "outputId": "6a218af4-c718-4fdb-b119-656b02f1879c",
        "colab": {
          "base_uri": "https://localhost:8080/",
          "height": 34
        }
      },
      "source": [
        "y = 3\n",
        "x = 2\n",
        "z = x + y\n",
        "print (z)"
      ],
      "execution_count": null,
      "outputs": [
        {
          "output_type": "stream",
          "text": [
            "5\n"
          ],
          "name": "stdout"
        }
      ]
    },
    {
      "cell_type": "code",
      "metadata": {
        "id": "Dd2mDUR6Wxe1",
        "outputId": "dfafe9e3-9920-4b0c-e760-0ef0b972b51a",
        "colab": {
          "base_uri": "https://localhost:8080/",
          "height": 34
        }
      },
      "source": [
        "a = 1\n",
        "b = a + 1\n",
        "b = 2\n",
        "c = a + b\n",
        "type (c)\n",
        "c = str(c)\n",
        "print (c)"
      ],
      "execution_count": null,
      "outputs": [
        {
          "output_type": "stream",
          "text": [
            "3\n"
          ],
          "name": "stdout"
        }
      ]
    },
    {
      "cell_type": "code",
      "metadata": {
        "id": "y68RZZEzW0Xk",
        "outputId": "5149805f-22c5-42d7-fbd5-fd5d0d7cb327",
        "colab": {
          "base_uri": "https://localhost:8080/",
          "height": 51
        }
      },
      "source": [
        "print(c)\n",
        "type(c)"
      ],
      "execution_count": null,
      "outputs": [
        {
          "output_type": "stream",
          "text": [
            "3\n"
          ],
          "name": "stdout"
        },
        {
          "output_type": "execute_result",
          "data": {
            "text/plain": [
              "str"
            ]
          },
          "metadata": {
            "tags": []
          },
          "execution_count": 12
        }
      ]
    },
    {
      "cell_type": "code",
      "metadata": {
        "id": "-gx8tC-4W3I6",
        "outputId": "b1bab592-85ee-4a2a-d275-fa3144ef01e9",
        "colab": {
          "base_uri": "https://localhost:8080/",
          "height": 34
        }
      },
      "source": [
        "b =str(a)\n",
        "print(b)"
      ],
      "execution_count": null,
      "outputs": [
        {
          "output_type": "stream",
          "text": [
            "1\n"
          ],
          "name": "stdout"
        }
      ]
    },
    {
      "cell_type": "code",
      "metadata": {
        "id": "MVxmxMkBW6An",
        "outputId": "41f9c157-ba5b-4fd3-87db-30331a061137",
        "colab": {
          "base_uri": "https://localhost:8080/",
          "height": 34
        }
      },
      "source": [
        "b =str(a)\n",
        "print(b*5)"
      ],
      "execution_count": null,
      "outputs": [
        {
          "output_type": "stream",
          "text": [
            "11111\n"
          ],
          "name": "stdout"
        }
      ]
    },
    {
      "cell_type": "code",
      "metadata": {
        "id": "9RNRmuTyW9Gg",
        "outputId": "2afddf09-5936-453b-af75-2f934fb91b2f",
        "colab": {
          "base_uri": "https://localhost:8080/",
          "height": 34
        }
      },
      "source": [
        "b = \"Hai\"\n",
        "print (b*5)"
      ],
      "execution_count": null,
      "outputs": [
        {
          "output_type": "stream",
          "text": [
            "HaiHaiHaiHaiHai\n"
          ],
          "name": "stdout"
        }
      ]
    },
    {
      "cell_type": "code",
      "metadata": {
        "id": "EAvm4PlIW_nC",
        "outputId": "23db2446-c911-4e2d-95ed-f05f5829fc37",
        "colab": {
          "base_uri": "https://localhost:8080/",
          "height": 34
        }
      },
      "source": [
        "a = 2\n",
        "b = 3\n",
        "\n",
        "print(\"a adalah\",a,\"b adalah\",b)"
      ],
      "execution_count": null,
      "outputs": [
        {
          "output_type": "stream",
          "text": [
            "a adalah 2 b adalah 3\n"
          ],
          "name": "stdout"
        }
      ]
    },
    {
      "cell_type": "code",
      "metadata": {
        "id": "5XqUX6TTXDAj",
        "outputId": "0819aba8-ce5c-4fdf-b07c-becf25787182",
        "colab": {
          "base_uri": "https://localhost:8080/",
          "height": 34
        }
      },
      "source": [
        "c = a\n",
        "a = b\n",
        "b = c\n",
        "\n",
        "print(\"a adalah\",a,\"b adalah\",b)"
      ],
      "execution_count": null,
      "outputs": [
        {
          "output_type": "stream",
          "text": [
            "a adalah 3 b adalah 2\n"
          ],
          "name": "stdout"
        }
      ]
    },
    {
      "cell_type": "code",
      "metadata": {
        "id": "w_L6ZLaXXNfS",
        "outputId": "a387d4f0-4c97-4fec-9e6e-c2aefaf57a56",
        "colab": {
          "base_uri": "https://localhost:8080/",
          "height": 34
        }
      },
      "source": [
        "#tambah => +\n",
        "#kurang => -\n",
        "#kali => *\n",
        "#bagi => /\n",
        "#pangkat => **\n",
        "\n",
        "print(\"Hai\"*2)"
      ],
      "execution_count": null,
      "outputs": [
        {
          "output_type": "stream",
          "text": [
            "HaiHai\n"
          ],
          "name": "stdout"
        }
      ]
    },
    {
      "cell_type": "code",
      "metadata": {
        "id": "Gz1HRQgYXRT5",
        "outputId": "462be50a-cf93-4050-c425-020489774dee",
        "colab": {
          "base_uri": "https://localhost:8080/",
          "height": 34
        }
      },
      "source": [
        "print(\"Hai\"*(2**3))"
      ],
      "execution_count": null,
      "outputs": [
        {
          "output_type": "stream",
          "text": [
            "HaiHaiHaiHaiHaiHaiHaiHai\n"
          ],
          "name": "stdout"
        }
      ]
    },
    {
      "cell_type": "code",
      "metadata": {
        "id": "-SZT1r_qXUXK",
        "outputId": "13c33f88-4e0e-4deb-a30f-2a747b6e84d0",
        "colab": {
          "base_uri": "https://localhost:8080/",
          "height": 68
        }
      },
      "source": [
        "#cin >> apa\n",
        "\n",
        "print(\"entry your name\")\n",
        "a=input()\n",
        "print(\"Hallo\",a,\"Nice to meet you\")"
      ],
      "execution_count": null,
      "outputs": [
        {
          "output_type": "stream",
          "text": [
            "entry your name\n",
            "Raka Surya Negara\n",
            "Hallo Raka Surya Negara Nice to meet you\n"
          ],
          "name": "stdout"
        }
      ]
    }
  ]
}